{
 "cells": [
  {
   "cell_type": "code",
   "execution_count": 1,
   "metadata": {},
   "outputs": [],
   "source": [
    "import math\n",
    "import numpy as np\n",
    "import torch.distributed as dist\n",
    "import torch.nn.functional as F\n",
    "import torch.optim as optim\n",
    "import torch.optim.lr_scheduler as lr_scheduler\n",
    "import torch.utils.data\n",
    "import yaml\n",
    "from torch.cuda import amp\n",
    "from torch.nn.parallel import DistributedDataParallel as DDP\n",
    "from torch.utils.tensorboard import SummaryWriter\n",
    "from tqdm import tqdm\n",
    "import pandas as pd\n",
    "import test  # import test.py to get mAP after each epoch\n",
    "from models.yolo import Model\n",
    "from utils.datasets import create_dataloader\n",
    "from utils.general import (\n",
    "    torch_distributed_zero_first, labels_to_class_weights, plot_labels, check_anchors, labels_to_image_weights,\n",
    "    compute_loss, plot_images, fitness, strip_optimizer, plot_results, get_latest_run, check_dataset, check_file,\n",
    "    check_git_status, check_img_size, increment_dir, print_mutation, plot_evolution, set_logging, init_seeds,\n",
    "non_max_suppression)\n",
    "from utils.google_utils import attempt_download\n",
    "from utils.torch_utils import ModelEMA, select_device, intersect_dicts\n",
    "from utils.torch_utils import select_device, time_synchronized\n",
    "from models.experimental import attempt_load\n",
    "\n",
    "\n",
    "pd.options.mode.chained_assignment = None \n",
    "class AttrDict(dict):\n",
    "    def __init__(self, *args, **kwargs):\n",
    "        super(AttrDict, self).__init__(*args, **kwargs)\n",
    "        self.__dict__ = self"
   ]
  },
  {
   "cell_type": "code",
   "execution_count": 2,
   "metadata": {},
   "outputs": [],
   "source": [
    "def geo_coords(box, x_translation, y_translation, geo_data, center=True):\n",
    "  \"\"\"\n",
    "  Gets coordinates in epsg:4326 format (google maps) of bounding box\n",
    "  If center, return only coordinate of center of bounding box\n",
    "  Params:\n",
    "    Box: [xmin, ymin, xmax, ymax]\n",
    "  \"\"\"\n",
    "  transformer = Transformer.from_crs(geo_data['crs'], 'epsg:4326')\n",
    "  if center:\n",
    "    center_x, center_y = (box[2] + box[0])//2 + x_translation, (box[3] + box[1])//2 + y_translation\n",
    "    new_coords = np.array(geo_data['transform']).reshape((3,3)) @ np.array( [center_x, center_y, 1])\n",
    "\n",
    "    return transformer.transform(new_coords[0], new_coords[1])\n",
    "\n",
    "  else:\n",
    "    new_box = np.array([[x_translation + box[0], y_translation + box[1], 1],\n",
    "            [x_translation + box[2], y_translation + box[3], 1]])\n",
    "    new_coords = np.array(geo_data['transform']).reshape((3,3)) @ new_box.T\n",
    "\n",
    "    return transformer.transform(new_coords[0], new_coords[1])\n",
    "\n",
    "def get_list_polygon(xs, ys):\n",
    "  xs, ys = sorted(xs), sorted(ys)\n",
    "  return [[ys[0], xs[0]], [ys[1], xs[0]], [ys[1], xs[1]], [ys[0], xs[1]]]\n"
   ]
  },
  {
   "cell_type": "code",
   "execution_count": 3,
   "metadata": {},
   "outputs": [],
   "source": [
    "import os\n",
    "from shapely.geometry import Polygon\n",
    "from pyproj import Transformer\n",
    "import ast\n",
    "\n",
    "df = pd.read_csv('../hunt_and_find/data_csv/test_merged.csv', index_col=0).sort_values(['directory', 'file']).reset_index(drop=True)\n",
    "df['width'], df['height'] = 256, 256\n",
    "def load_targets(annot_path, df_metadata, set_name='val'):\n",
    "    coordinate_list = []\n",
    "    for file in sorted(os.listdir(os.path.join(annot_path, set_name))):\n",
    "        try:\n",
    "            df_res = pd.read_csv(os.path.join(annot_path, set_name, file), header=None, sep=' ')\n",
    "            num = int(file.replace('.txt', ''))\n",
    "            md = df_metadata.iloc[num]\n",
    "            md['transform'] = ast.literal_eval(md['transform'].replace(\"'\", '\"'))\n",
    "            for i, row in df_res.iterrows():\n",
    "                width, height = row[3]* md['width'], row[4] * md['height']\n",
    "                center_x, center_y = row[1] * md['width'], row[2] * md['height']\n",
    "                box = [center_x- width//2, center_y - height//2, center_x + width // 2, center_y + width //2]\n",
    "                xs, ys = geo_coords(box, md['x_offset'], md['y_offset'], md, center=False)\n",
    "                coordinate_list.append(get_list_polygon(xs, ys))\n",
    "        except Exception as e:\n",
    "            pass\n",
    "    return coordinate_list\n",
    "    \n",
    "compute = False\n",
    "if compute:\n",
    "    directory = 'new_coolingTowers'\n",
    "    coord_list = load_targets(f'../datasets/{directory}/labels/', df)\n",
    "    import pickle\n",
    "    with open(f'../datasets/{directory}/val_coords.txt', 'wb') as f:\n",
    "        pickle.dump(coord_list, f)"
   ]
  },
  {
   "cell_type": "code",
   "execution_count": 4,
   "metadata": {
    "collapsed": true
   },
   "outputs": [
    {
     "name": "stderr",
     "output_type": "stream",
     "text": [
      "  7%|▋         | 171/2487 [00:02<00:30, 76.94it/s]\n"
     ]
    },
    {
     "ename": "KeyboardInterrupt",
     "evalue": "",
     "output_type": "error",
     "traceback": [
      "\u001b[0;31m---------------------------------------------------------------------------\u001b[0m",
      "\u001b[0;31mKeyboardInterrupt\u001b[0m                         Traceback (most recent call last)",
      "\u001b[0;32m<ipython-input-4-3b0eb8160c73>\u001b[0m in \u001b[0;36m<module>\u001b[0;34m\u001b[0m\n\u001b[1;32m     19\u001b[0m         \u001b[0mpickle\u001b[0m\u001b[0;34m.\u001b[0m\u001b[0mdump\u001b[0m\u001b[0;34m(\u001b[0m\u001b[0mcoordinate_list\u001b[0m\u001b[0;34m,\u001b[0m \u001b[0mf\u001b[0m\u001b[0;34m)\u001b[0m\u001b[0;34m\u001b[0m\u001b[0;34m\u001b[0m\u001b[0m\n\u001b[1;32m     20\u001b[0m     \u001b[0;32mreturn\u001b[0m \u001b[0mcoordinate_list\u001b[0m\u001b[0;34m\u001b[0m\u001b[0;34m\u001b[0m\u001b[0m\n\u001b[0;32m---> 21\u001b[0;31m \u001b[0mpreds\u001b[0m \u001b[0;34m=\u001b[0m \u001b[0mexperiment_evaluate\u001b[0m\u001b[0;34m(\u001b[0m\u001b[0;34m'runs/testexp13/'\u001b[0m\u001b[0;34m,\u001b[0m \u001b[0mdf\u001b[0m\u001b[0;34m)\u001b[0m\u001b[0;34m\u001b[0m\u001b[0;34m\u001b[0m\u001b[0m\n\u001b[0m",
      "\u001b[0;32m<ipython-input-4-3b0eb8160c73>\u001b[0m in \u001b[0;36mexperiment_evaluate\u001b[0;34m(exp_path, df_metadata, min_thr)\u001b[0m\n\u001b[1;32m     14\u001b[0m             \u001b[0mcenter_x\u001b[0m\u001b[0;34m,\u001b[0m \u001b[0mcenter_y\u001b[0m \u001b[0;34m=\u001b[0m \u001b[0mrow\u001b[0m\u001b[0;34m[\u001b[0m\u001b[0;36m2\u001b[0m\u001b[0;34m]\u001b[0m \u001b[0;34m*\u001b[0m \u001b[0mmd\u001b[0m\u001b[0;34m[\u001b[0m\u001b[0;34m'width'\u001b[0m\u001b[0;34m]\u001b[0m\u001b[0;34m,\u001b[0m \u001b[0mrow\u001b[0m\u001b[0;34m[\u001b[0m\u001b[0;36m3\u001b[0m\u001b[0;34m]\u001b[0m \u001b[0;34m*\u001b[0m \u001b[0mmd\u001b[0m\u001b[0;34m[\u001b[0m\u001b[0;34m'height'\u001b[0m\u001b[0;34m]\u001b[0m\u001b[0;34m\u001b[0m\u001b[0;34m\u001b[0m\u001b[0m\n\u001b[1;32m     15\u001b[0m             \u001b[0mbox\u001b[0m \u001b[0;34m=\u001b[0m \u001b[0;34m[\u001b[0m\u001b[0mcenter_x\u001b[0m\u001b[0;34m-\u001b[0m \u001b[0mwidth\u001b[0m\u001b[0;34m//\u001b[0m\u001b[0;36m2\u001b[0m\u001b[0;34m,\u001b[0m \u001b[0mcenter_y\u001b[0m \u001b[0;34m-\u001b[0m \u001b[0mheight\u001b[0m\u001b[0;34m//\u001b[0m\u001b[0;36m2\u001b[0m\u001b[0;34m,\u001b[0m \u001b[0mcenter_x\u001b[0m \u001b[0;34m+\u001b[0m \u001b[0mwidth\u001b[0m \u001b[0;34m//\u001b[0m \u001b[0;36m2\u001b[0m\u001b[0;34m,\u001b[0m \u001b[0mcenter_y\u001b[0m \u001b[0;34m+\u001b[0m \u001b[0mwidth\u001b[0m \u001b[0;34m//\u001b[0m\u001b[0;36m2\u001b[0m\u001b[0;34m]\u001b[0m\u001b[0;34m\u001b[0m\u001b[0;34m\u001b[0m\u001b[0m\n\u001b[0;32m---> 16\u001b[0;31m             \u001b[0mxs\u001b[0m\u001b[0;34m,\u001b[0m \u001b[0mys\u001b[0m \u001b[0;34m=\u001b[0m \u001b[0mgeo_coords\u001b[0m\u001b[0;34m(\u001b[0m\u001b[0mbox\u001b[0m\u001b[0;34m,\u001b[0m \u001b[0mmd\u001b[0m\u001b[0;34m[\u001b[0m\u001b[0;34m'x_pos'\u001b[0m\u001b[0;34m]\u001b[0m\u001b[0;34m,\u001b[0m \u001b[0mmd\u001b[0m\u001b[0;34m[\u001b[0m\u001b[0;34m'y_pos'\u001b[0m\u001b[0;34m]\u001b[0m\u001b[0;34m,\u001b[0m \u001b[0mmd\u001b[0m\u001b[0;34m,\u001b[0m \u001b[0mcenter\u001b[0m\u001b[0;34m=\u001b[0m\u001b[0;32mFalse\u001b[0m\u001b[0;34m)\u001b[0m\u001b[0;34m\u001b[0m\u001b[0;34m\u001b[0m\u001b[0m\n\u001b[0m\u001b[1;32m     17\u001b[0m             \u001b[0mcoordinate_list\u001b[0m\u001b[0;34m.\u001b[0m\u001b[0mappend\u001b[0m\u001b[0;34m(\u001b[0m\u001b[0;34m(\u001b[0m\u001b[0mget_list_polygon\u001b[0m\u001b[0;34m(\u001b[0m\u001b[0mxs\u001b[0m\u001b[0;34m,\u001b[0m \u001b[0mys\u001b[0m\u001b[0;34m)\u001b[0m\u001b[0;34m,\u001b[0m\u001b[0mrow\u001b[0m\u001b[0;34m[\u001b[0m\u001b[0;36m1\u001b[0m\u001b[0;34m]\u001b[0m\u001b[0;34m)\u001b[0m\u001b[0;34m)\u001b[0m\u001b[0;34m\u001b[0m\u001b[0;34m\u001b[0m\u001b[0m\n\u001b[1;32m     18\u001b[0m     \u001b[0;32mwith\u001b[0m \u001b[0mopen\u001b[0m\u001b[0;34m(\u001b[0m\u001b[0;34mf'{exp_path}/coords.pkl'\u001b[0m\u001b[0;34m,\u001b[0m \u001b[0;34m'wb'\u001b[0m\u001b[0;34m)\u001b[0m \u001b[0;32mas\u001b[0m \u001b[0mf\u001b[0m\u001b[0;34m:\u001b[0m\u001b[0;34m\u001b[0m\u001b[0;34m\u001b[0m\u001b[0m\n",
      "\u001b[0;32m<ipython-input-2-f1546eb264f9>\u001b[0m in \u001b[0;36mgeo_coords\u001b[0;34m(box, x_translation, y_translation, geo_data, center)\u001b[0m\n\u001b[1;32m      6\u001b[0m     \u001b[0mBox\u001b[0m\u001b[0;34m:\u001b[0m \u001b[0;34m[\u001b[0m\u001b[0mxmin\u001b[0m\u001b[0;34m,\u001b[0m \u001b[0mymin\u001b[0m\u001b[0;34m,\u001b[0m \u001b[0mxmax\u001b[0m\u001b[0;34m,\u001b[0m \u001b[0mymax\u001b[0m\u001b[0;34m]\u001b[0m\u001b[0;34m\u001b[0m\u001b[0;34m\u001b[0m\u001b[0m\n\u001b[1;32m      7\u001b[0m   \"\"\"\n\u001b[0;32m----> 8\u001b[0;31m   \u001b[0mtransformer\u001b[0m \u001b[0;34m=\u001b[0m \u001b[0mTransformer\u001b[0m\u001b[0;34m.\u001b[0m\u001b[0mfrom_crs\u001b[0m\u001b[0;34m(\u001b[0m\u001b[0mgeo_data\u001b[0m\u001b[0;34m[\u001b[0m\u001b[0;34m'crs'\u001b[0m\u001b[0;34m]\u001b[0m\u001b[0;34m,\u001b[0m \u001b[0;34m'epsg:4326'\u001b[0m\u001b[0;34m)\u001b[0m\u001b[0;34m\u001b[0m\u001b[0;34m\u001b[0m\u001b[0m\n\u001b[0m\u001b[1;32m      9\u001b[0m   \u001b[0;32mif\u001b[0m \u001b[0mcenter\u001b[0m\u001b[0;34m:\u001b[0m\u001b[0;34m\u001b[0m\u001b[0;34m\u001b[0m\u001b[0m\n\u001b[1;32m     10\u001b[0m     \u001b[0mcenter_x\u001b[0m\u001b[0;34m,\u001b[0m \u001b[0mcenter_y\u001b[0m \u001b[0;34m=\u001b[0m \u001b[0;34m(\u001b[0m\u001b[0mbox\u001b[0m\u001b[0;34m[\u001b[0m\u001b[0;36m2\u001b[0m\u001b[0;34m]\u001b[0m \u001b[0;34m+\u001b[0m \u001b[0mbox\u001b[0m\u001b[0;34m[\u001b[0m\u001b[0;36m0\u001b[0m\u001b[0;34m]\u001b[0m\u001b[0;34m)\u001b[0m\u001b[0;34m//\u001b[0m\u001b[0;36m2\u001b[0m \u001b[0;34m+\u001b[0m \u001b[0mx_translation\u001b[0m\u001b[0;34m,\u001b[0m \u001b[0;34m(\u001b[0m\u001b[0mbox\u001b[0m\u001b[0;34m[\u001b[0m\u001b[0;36m3\u001b[0m\u001b[0;34m]\u001b[0m \u001b[0;34m+\u001b[0m \u001b[0mbox\u001b[0m\u001b[0;34m[\u001b[0m\u001b[0;36m1\u001b[0m\u001b[0;34m]\u001b[0m\u001b[0;34m)\u001b[0m\u001b[0;34m//\u001b[0m\u001b[0;36m2\u001b[0m \u001b[0;34m+\u001b[0m \u001b[0my_translation\u001b[0m\u001b[0;34m\u001b[0m\u001b[0;34m\u001b[0m\u001b[0m\n",
      "\u001b[0;32m~/.pyenv/versions/myenv/envs/finderenv/lib/python3.7/site-packages/pyproj/transformer.py\u001b[0m in \u001b[0;36mfrom_crs\u001b[0;34m(crs_from, crs_to, skip_equivalent, always_xy, area_of_interest)\u001b[0m\n\u001b[1;32m    371\u001b[0m                 \u001b[0mskip_equivalent\u001b[0m\u001b[0;34m=\u001b[0m\u001b[0mskip_equivalent\u001b[0m\u001b[0;34m,\u001b[0m\u001b[0;34m\u001b[0m\u001b[0;34m\u001b[0m\u001b[0m\n\u001b[1;32m    372\u001b[0m                 \u001b[0malways_xy\u001b[0m\u001b[0;34m=\u001b[0m\u001b[0malways_xy\u001b[0m\u001b[0;34m,\u001b[0m\u001b[0;34m\u001b[0m\u001b[0;34m\u001b[0m\u001b[0m\n\u001b[0;32m--> 373\u001b[0;31m                 \u001b[0marea_of_interest\u001b[0m\u001b[0;34m=\u001b[0m\u001b[0marea_of_interest\u001b[0m\u001b[0;34m,\u001b[0m\u001b[0;34m\u001b[0m\u001b[0;34m\u001b[0m\u001b[0m\n\u001b[0m\u001b[1;32m    374\u001b[0m             )\n\u001b[1;32m    375\u001b[0m         )\n",
      "\u001b[0;32mpyproj/_transformer.pyx\u001b[0m in \u001b[0;36mpyproj._transformer._Transformer.from_crs\u001b[0;34m()\u001b[0m\n",
      "\u001b[0;32mpyproj/_transformer.pyx\u001b[0m in \u001b[0;36mpyproj._transformer._Transformer._init_from_crs\u001b[0;34m()\u001b[0m\n",
      "\u001b[0;32mpyproj/_transformer.pyx\u001b[0m in \u001b[0;36mpyproj._transformer._Transformer._initialize_from_projobj\u001b[0;34m()\u001b[0m\n",
      "\u001b[0;32mpyproj/_crs.pyx\u001b[0m in \u001b[0;36mpyproj._crs.Base._set_base_info\u001b[0;34m()\u001b[0m\n",
      "\u001b[0;32mpyproj/_crs.pyx\u001b[0m in \u001b[0;36mpyproj._crs.decode_or_undefined\u001b[0;34m()\u001b[0m\n",
      "\u001b[0;32mpyproj/_compat.pyx\u001b[0m in \u001b[0;36mpyproj._compat.cstrdecode\u001b[0;34m()\u001b[0m\n",
      "\u001b[0;32m~/.pyenv/versions/myenv/envs/finderenv/lib/python3.7/site-packages/pyproj/compat.py\u001b[0m in \u001b[0;36mpystrdecode\u001b[0;34m(cstr)\u001b[0m\n\u001b[1;32m     16\u001b[0m \u001b[0;34m\u001b[0m\u001b[0m\n\u001b[1;32m     17\u001b[0m \u001b[0;34m\u001b[0m\u001b[0m\n\u001b[0;32m---> 18\u001b[0;31m \u001b[0;32mdef\u001b[0m \u001b[0mpystrdecode\u001b[0m\u001b[0;34m(\u001b[0m\u001b[0mcstr\u001b[0m\u001b[0;34m)\u001b[0m\u001b[0;34m:\u001b[0m\u001b[0;34m\u001b[0m\u001b[0;34m\u001b[0m\u001b[0m\n\u001b[0m\u001b[1;32m     19\u001b[0m     \"\"\"\n\u001b[1;32m     20\u001b[0m     \u001b[0mDecode\u001b[0m \u001b[0ma\u001b[0m \u001b[0mstring\u001b[0m \u001b[0mto\u001b[0m \u001b[0ma\u001b[0m \u001b[0mpython\u001b[0m \u001b[0mstring\u001b[0m\u001b[0;34m.\u001b[0m\u001b[0;34m\u001b[0m\u001b[0;34m\u001b[0m\u001b[0m\n",
      "\u001b[0;31mKeyboardInterrupt\u001b[0m: "
     ]
    }
   ],
   "source": [
    "df.rename(columns={'x_offset': 'x_pos', 'y_offset': 'y_pos'}, inplace=True)\n",
    "import tqdm\n",
    "import pickle\n",
    "def experiment_evaluate(exp_path, df_metadata, min_thr=0.25):\n",
    "    coordinate_list=[]\n",
    "    for file in tqdm.tqdm(os.listdir(os.path.join(exp_path, 'autolabels'))):\n",
    "        df_res = pd.read_csv(os.path.join(exp_path, 'autolabels', file), header=None, sep=' ')\n",
    "        num = int(file.replace('.txt', ''))\n",
    "        md = df_metadata.loc[num]\n",
    "        md['transform'] = ast.literal_eval(md['transform'].replace(\"'\", '\"'))\n",
    "        df = df_res.loc[df_res[1] > min_thr]\n",
    "        for i, row in df.iterrows():\n",
    "            width, height = row[4]* md['width'], row[5] * md['height']\n",
    "            center_x, center_y = row[2] * md['width'], row[3] * md['height']\n",
    "            box = [center_x- width//2, center_y - height//2, center_x + width // 2, center_y + width //2]\n",
    "            xs, ys = geo_coords(box, md['x_pos'], md['y_pos'], md, center=False)\n",
    "            coordinate_list.append((get_list_polygon(xs, ys),row[1]))\n",
    "    with open(f'{exp_path}/coords.pkl', 'wb') as f:\n",
    "        pickle.dump(coordinate_list, f)\n",
    "    return coordinate_list\n",
    "preds = experiment_evaluate('runs/testexp13/', df)"
   ]
  },
  {
   "cell_type": "code",
   "execution_count": 15,
   "metadata": {},
   "outputs": [],
   "source": [
    "with open('runs/testexp13/coords.pkl', 'rb') as f:\n",
    "    preds = pickle.load(f)"
   ]
  },
  {
   "cell_type": "code",
   "execution_count": 16,
   "metadata": {},
   "outputs": [],
   "source": [
    "with open('../datasets/new_coolingTowers/val_coords.txt', 'rb') as f:\n",
    "    coord_list = pickle.load(f)\n",
    "\n",
    "import geopandas\n",
    "confidences = [p[1] for p in preds]\n",
    "polygons_preds = [Polygon(p[0]) for p in preds]\n",
    "polygon_target = [Polygon(p) for p in coord_list]\n",
    "gdf_preds = geopandas.GeoDataFrame(confidences, geometry=polygons_preds)\n",
    "gdf_preds = gdf_preds[gdf_preds[0] > 0.57]\n",
    "gdf_targets = geopandas.GeoDataFrame(geometry=polygon_target)\n",
    "preds_match = geopandas.sjoin(gdf_preds, gdf_targets, how='left', op='intersects').drop_duplicates('geometry')\n",
    "target_match = geopandas.sjoin(gdf_preds, gdf_targets, how='right', op='intersects').drop_duplicates('geometry')"
   ]
  },
  {
   "cell_type": "code",
   "execution_count": 17,
   "metadata": {
    "scrolled": true
   },
   "outputs": [
    {
     "name": "stdout",
     "output_type": "stream",
     "text": [
      "precision 0.776595744680851, recall 0.874251497005988\n"
     ]
    }
   ],
   "source": [
    "\n",
    "tp = target_match[target_match.index_left.notnull()].drop_duplicates('index_left').shape[0]\n",
    "fp = preds_match[preds_match.index_right.isna()].shape[0]\n",
    "fn = target_match[target_match.index_left.isna()].shape[0]\n",
    "print(f'precision {tp/(tp+fp)}, recall {tp/(tp+fn)}')"
   ]
  }
 ],
 "metadata": {
  "kernelspec": {
   "display_name": "Python 3",
   "language": "python",
   "name": "python3"
  },
  "language_info": {
   "codemirror_mode": {
    "name": "ipython",
    "version": 3
   },
   "file_extension": ".py",
   "mimetype": "text/x-python",
   "name": "python",
   "nbconvert_exporter": "python",
   "pygments_lexer": "ipython3",
   "version": "3.7.7"
  }
 },
 "nbformat": 4,
 "nbformat_minor": 4
}
